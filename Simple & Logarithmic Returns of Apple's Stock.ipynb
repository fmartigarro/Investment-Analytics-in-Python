{
 "cells": [
  {
   "cell_type": "code",
   "execution_count": 1,
   "metadata": {},
   "outputs": [],
   "source": [
    "import numpy as np\n",
    "from pandas_datareader import data as web\n",
    "import matplotlib.pyplot as plt"
   ]
  },
  {
   "cell_type": "code",
   "execution_count": 2,
   "metadata": {},
   "outputs": [],
   "source": [
    "#We are going to analyze and calcualate the rate of returns on Apple stock\n",
    "Apple = web.DataReader('AAPL', data_source = 'yahoo', start = \"1995-1-1\")"
   ]
  },
  {
   "cell_type": "code",
   "execution_count": 3,
   "metadata": {},
   "outputs": [
    {
     "data": {
      "text/html": [
       "<div>\n",
       "<style scoped>\n",
       "    .dataframe tbody tr th:only-of-type {\n",
       "        vertical-align: middle;\n",
       "    }\n",
       "\n",
       "    .dataframe tbody tr th {\n",
       "        vertical-align: top;\n",
       "    }\n",
       "\n",
       "    .dataframe thead th {\n",
       "        text-align: right;\n",
       "    }\n",
       "</style>\n",
       "<table border=\"1\" class=\"dataframe\">\n",
       "  <thead>\n",
       "    <tr style=\"text-align: right;\">\n",
       "      <th></th>\n",
       "      <th>High</th>\n",
       "      <th>Low</th>\n",
       "      <th>Open</th>\n",
       "      <th>Close</th>\n",
       "      <th>Volume</th>\n",
       "      <th>Adj Close</th>\n",
       "    </tr>\n",
       "    <tr>\n",
       "      <th>Date</th>\n",
       "      <th></th>\n",
       "      <th></th>\n",
       "      <th></th>\n",
       "      <th></th>\n",
       "      <th></th>\n",
       "      <th></th>\n",
       "    </tr>\n",
       "  </thead>\n",
       "  <tbody>\n",
       "    <tr>\n",
       "      <th>1995-01-03</th>\n",
       "      <td>1.388393</td>\n",
       "      <td>1.352679</td>\n",
       "      <td>1.388393</td>\n",
       "      <td>1.370536</td>\n",
       "      <td>25967200.0</td>\n",
       "      <td>1.179026</td>\n",
       "    </tr>\n",
       "    <tr>\n",
       "      <th>1995-01-04</th>\n",
       "      <td>1.415179</td>\n",
       "      <td>1.379464</td>\n",
       "      <td>1.379464</td>\n",
       "      <td>1.406250</td>\n",
       "      <td>39670400.0</td>\n",
       "      <td>1.209749</td>\n",
       "    </tr>\n",
       "    <tr>\n",
       "      <th>1995-01-05</th>\n",
       "      <td>1.406250</td>\n",
       "      <td>1.383929</td>\n",
       "      <td>1.401786</td>\n",
       "      <td>1.388393</td>\n",
       "      <td>18410000.0</td>\n",
       "      <td>1.194387</td>\n",
       "    </tr>\n",
       "    <tr>\n",
       "      <th>1995-01-06</th>\n",
       "      <td>1.540179</td>\n",
       "      <td>1.468750</td>\n",
       "      <td>1.486607</td>\n",
       "      <td>1.500000</td>\n",
       "      <td>269155600.0</td>\n",
       "      <td>1.290400</td>\n",
       "    </tr>\n",
       "    <tr>\n",
       "      <th>1995-01-09</th>\n",
       "      <td>1.495536</td>\n",
       "      <td>1.464286</td>\n",
       "      <td>1.486607</td>\n",
       "      <td>1.471540</td>\n",
       "      <td>68521600.0</td>\n",
       "      <td>1.265917</td>\n",
       "    </tr>\n",
       "  </tbody>\n",
       "</table>\n",
       "</div>"
      ],
      "text/plain": [
       "                High       Low      Open     Close       Volume  Adj Close\n",
       "Date                                                                      \n",
       "1995-01-03  1.388393  1.352679  1.388393  1.370536   25967200.0   1.179026\n",
       "1995-01-04  1.415179  1.379464  1.379464  1.406250   39670400.0   1.209749\n",
       "1995-01-05  1.406250  1.383929  1.401786  1.388393   18410000.0   1.194387\n",
       "1995-01-06  1.540179  1.468750  1.486607  1.500000  269155600.0   1.290400\n",
       "1995-01-09  1.495536  1.464286  1.486607  1.471540   68521600.0   1.265917"
      ]
     },
     "execution_count": 3,
     "metadata": {},
     "output_type": "execute_result"
    }
   ],
   "source": [
    "Apple.head()"
   ]
  },
  {
   "cell_type": "code",
   "execution_count": 4,
   "metadata": {},
   "outputs": [
    {
     "data": {
      "text/html": [
       "<div>\n",
       "<style scoped>\n",
       "    .dataframe tbody tr th:only-of-type {\n",
       "        vertical-align: middle;\n",
       "    }\n",
       "\n",
       "    .dataframe tbody tr th {\n",
       "        vertical-align: top;\n",
       "    }\n",
       "\n",
       "    .dataframe thead th {\n",
       "        text-align: right;\n",
       "    }\n",
       "</style>\n",
       "<table border=\"1\" class=\"dataframe\">\n",
       "  <thead>\n",
       "    <tr style=\"text-align: right;\">\n",
       "      <th></th>\n",
       "      <th>High</th>\n",
       "      <th>Low</th>\n",
       "      <th>Open</th>\n",
       "      <th>Close</th>\n",
       "      <th>Volume</th>\n",
       "      <th>Adj Close</th>\n",
       "    </tr>\n",
       "    <tr>\n",
       "      <th>Date</th>\n",
       "      <th></th>\n",
       "      <th></th>\n",
       "      <th></th>\n",
       "      <th></th>\n",
       "      <th></th>\n",
       "      <th></th>\n",
       "    </tr>\n",
       "  </thead>\n",
       "  <tbody>\n",
       "    <tr>\n",
       "      <th>2019-12-10</th>\n",
       "      <td>270.070007</td>\n",
       "      <td>265.859985</td>\n",
       "      <td>268.600006</td>\n",
       "      <td>268.480011</td>\n",
       "      <td>22605100.0</td>\n",
       "      <td>268.480011</td>\n",
       "    </tr>\n",
       "    <tr>\n",
       "      <th>2019-12-11</th>\n",
       "      <td>271.100006</td>\n",
       "      <td>268.500000</td>\n",
       "      <td>268.809998</td>\n",
       "      <td>270.769989</td>\n",
       "      <td>19689200.0</td>\n",
       "      <td>270.769989</td>\n",
       "    </tr>\n",
       "    <tr>\n",
       "      <th>2019-12-12</th>\n",
       "      <td>272.559998</td>\n",
       "      <td>267.320007</td>\n",
       "      <td>267.779999</td>\n",
       "      <td>271.459991</td>\n",
       "      <td>34327600.0</td>\n",
       "      <td>271.459991</td>\n",
       "    </tr>\n",
       "    <tr>\n",
       "      <th>2019-12-13</th>\n",
       "      <td>275.299988</td>\n",
       "      <td>270.929993</td>\n",
       "      <td>271.459991</td>\n",
       "      <td>275.149994</td>\n",
       "      <td>33396900.0</td>\n",
       "      <td>275.149994</td>\n",
       "    </tr>\n",
       "    <tr>\n",
       "      <th>2019-12-16</th>\n",
       "      <td>280.649994</td>\n",
       "      <td>276.980011</td>\n",
       "      <td>277.000000</td>\n",
       "      <td>279.859985</td>\n",
       "      <td>29765105.0</td>\n",
       "      <td>279.859985</td>\n",
       "    </tr>\n",
       "  </tbody>\n",
       "</table>\n",
       "</div>"
      ],
      "text/plain": [
       "                  High         Low        Open       Close      Volume  \\\n",
       "Date                                                                     \n",
       "2019-12-10  270.070007  265.859985  268.600006  268.480011  22605100.0   \n",
       "2019-12-11  271.100006  268.500000  268.809998  270.769989  19689200.0   \n",
       "2019-12-12  272.559998  267.320007  267.779999  271.459991  34327600.0   \n",
       "2019-12-13  275.299988  270.929993  271.459991  275.149994  33396900.0   \n",
       "2019-12-16  280.649994  276.980011  277.000000  279.859985  29765105.0   \n",
       "\n",
       "             Adj Close  \n",
       "Date                    \n",
       "2019-12-10  268.480011  \n",
       "2019-12-11  270.769989  \n",
       "2019-12-12  271.459991  \n",
       "2019-12-13  275.149994  \n",
       "2019-12-16  279.859985  "
      ]
     },
     "execution_count": 4,
     "metadata": {},
     "output_type": "execute_result"
    }
   ],
   "source": [
    "Apple.tail()"
   ]
  },
  {
   "cell_type": "markdown",
   "metadata": {},
   "source": [
    "### Simple Rate of Return\n",
    "    \n",
    "  \n",
    "                                      P1 - P0         P1\n",
    "                                      _______   =    ____  -  1\n",
    "                                       \n",
    "                                         P0           P0\n",
    "    P1 = Ending Price\n",
    "    P0 = Beginning Price                                   \n",
    "                                         "
   ]
  },
  {
   "cell_type": "code",
   "execution_count": 5,
   "metadata": {},
   "outputs": [],
   "source": [
    "#Creating a \"Simple Return\" column in Apple DataFrame and calculating Simple RoR per pair of data\n",
    "#.shift(1) retrieves the index - 1\n",
    "\n",
    "Apple['Simple_Return'] = (Apple['Adj Close'] / Apple['Adj Close'].shift(1)) - 1"
   ]
  },
  {
   "cell_type": "code",
   "execution_count": 6,
   "metadata": {},
   "outputs": [
    {
     "data": {
      "text/plain": [
       "Date\n",
       "1995-01-03         NaN\n",
       "1995-01-04    0.026059\n",
       "1995-01-05   -0.012699\n",
       "1995-01-06    0.080386\n",
       "1995-01-09   -0.018973\n",
       "1995-01-10    0.060296\n",
       "1995-01-11    0.070100\n",
       "1995-01-12   -0.029412\n",
       "1995-01-13   -0.011019\n",
       "1995-01-16   -0.008356\n",
       "1995-01-17    0.011236\n",
       "1995-01-18    0.013889\n",
       "1995-01-19    0.005480\n",
       "1995-01-20   -0.070845\n",
       "1995-01-23   -0.008798\n",
       "1995-01-24   -0.014793\n",
       "1995-01-25   -0.015391\n",
       "1995-01-26   -0.036218\n",
       "1995-01-27    0.009494\n",
       "1995-01-30    0.006269\n",
       "1995-01-31    0.006230\n",
       "1995-02-01   -0.006192\n",
       "1995-02-02    0.037383\n",
       "1995-02-03   -0.027027\n",
       "1995-02-06    0.000000\n",
       "1995-02-07    0.007716\n",
       "1995-02-08    0.036754\n",
       "1995-02-09    0.031019\n",
       "1995-02-10    0.002865\n",
       "1995-02-13    0.002753\n",
       "                ...   \n",
       "2019-11-04    0.006567\n",
       "2019-11-05   -0.001437\n",
       "2019-11-06    0.000428\n",
       "2019-11-07    0.011541\n",
       "2019-11-08    0.002737\n",
       "2019-11-11    0.007919\n",
       "2019-11-12   -0.000915\n",
       "2019-11-13    0.009582\n",
       "2019-11-14   -0.006919\n",
       "2019-11-15    0.011879\n",
       "2019-11-18    0.005042\n",
       "2019-11-19   -0.003033\n",
       "2019-11-20   -0.011641\n",
       "2019-11-21   -0.004483\n",
       "2019-11-22   -0.000878\n",
       "2019-11-25    0.017534\n",
       "2019-11-26   -0.007809\n",
       "2019-11-27    0.013432\n",
       "2019-11-29   -0.002203\n",
       "2019-12-02   -0.011562\n",
       "2019-12-03   -0.017830\n",
       "2019-12-04    0.008826\n",
       "2019-12-05    0.014671\n",
       "2019-12-06    0.019316\n",
       "2019-12-09   -0.014000\n",
       "2019-12-10    0.005844\n",
       "2019-12-11    0.008529\n",
       "2019-12-12    0.002548\n",
       "2019-12-13    0.013593\n",
       "2019-12-16    0.017118\n",
       "Name: Simple_Return, Length: 6284, dtype: float64"
      ]
     },
     "execution_count": 6,
     "metadata": {},
     "output_type": "execute_result"
    }
   ],
   "source": [
    "#Printing Simple Return column in DF (First value is NaN because .shift(1) cannot be retrieved)\n",
    "Apple['Simple_Return']"
   ]
  },
  {
   "cell_type": "code",
   "execution_count": 7,
   "metadata": {},
   "outputs": [
    {
     "data": {
      "text/plain": [
       "<matplotlib.axes._subplots.AxesSubplot at 0x11ad8d710>"
      ]
     },
     "execution_count": 7,
     "metadata": {},
     "output_type": "execute_result"
    },
    {
     "data": {
      "image/png": "[encoded data removed]",
      "text/plain": [
       "<Figure size 576x360 with 1 Axes>"
      ]
     },
     "metadata": {
      "needs_background": "light"
     },
     "output_type": "display_data"
    }
   ],
   "source": [
    "#Creates a visualization of the Simple RoR of Apple's stock\n",
    "#Plot parameters are optional - they just increase the size of the graph shown\n",
    "\n",
    "Apple['Simple_Return'].plot(figsize = (8, 5))"
   ]
  },
  {
   "cell_type": "code",
   "execution_count": 8,
   "metadata": {},
   "outputs": [
    {
     "data": {
      "text/plain": [
       "0.0012649020424434568"
      ]
     },
     "execution_count": 8,
     "metadata": {},
     "output_type": "execute_result"
    }
   ],
   "source": [
    "#Graph shows Simple RoR over time, but what about the daily average return? Use mean method to calculate and print\n",
    "average_return_d = Apple['Simple_Return'].mean()\n",
    "average_return_d"
   ]
  },
  {
   "cell_type": "code",
   "execution_count": 9,
   "metadata": {},
   "outputs": [
    {
     "data": {
      "text/plain": [
       "0.3162255106108642"
      ]
     },
     "execution_count": 9,
     "metadata": {},
     "output_type": "execute_result"
    }
   ],
   "source": [
    "#Daily average return is hard to conceptualize; Annual average return may be more practical\n",
    "#365 days in a year, but only around 250 trading days in a year (and thus data entries)\n",
    "\n",
    "average_return_a = Apple['Simple_Return'].mean() * 250\n",
    "average_return_a"
   ]
  },
  {
   "cell_type": "code",
   "execution_count": 10,
   "metadata": {},
   "outputs": [
    {
     "name": "stdout",
     "output_type": "stream",
     "text": [
      "31.623%\n"
     ]
    }
   ],
   "source": [
    "#Turn into a percentage\n",
    "print (str(round(average_return_a * 100, 3)) + '%')"
   ]
  },
  {
   "cell_type": "code",
   "execution_count": 11,
   "metadata": {},
   "outputs": [],
   "source": [
    "##We have successfully calculated the daily and annual Simple Rate of Return on Apple stock from 1995 to today\n",
    " #Now, what about the Logarithmic RoR?"
   ]
  },
  {
   "cell_type": "markdown",
   "metadata": {},
   "source": [
    "### Logarithmic Rate of Return \n",
    "                                    \n",
    "                                     Log[P1/P0]  =  Log(P1) - Log(P0)\n",
    "                                                                    \n",
    "    P1 = Ending Price\n",
    "    P0 = Beginning Price\n",
    "                                                           "
   ]
  },
  {
   "cell_type": "code",
   "execution_count": 12,
   "metadata": {},
   "outputs": [],
   "source": [
    "#Creating a \"Log Return\" column in Apple DataFrame and calculating Simple RoR per pair of data\n",
    "Apple['Log_Return'] = (np.log(Apple['Adj Close'] / Apple['Adj Close'].shift(1)))"
   ]
  },
  {
   "cell_type": "code",
   "execution_count": 13,
   "metadata": {},
   "outputs": [
    {
     "data": {
      "text/plain": [
       "Date\n",
       "1995-01-03         NaN\n",
       "1995-01-04    0.025725\n",
       "1995-01-05   -0.012780\n",
       "1995-01-06    0.077319\n",
       "1995-01-09   -0.019155\n",
       "1995-01-10    0.058548\n",
       "1995-01-11    0.067752\n",
       "1995-01-12   -0.029853\n",
       "1995-01-13   -0.011081\n",
       "1995-01-16   -0.008392\n",
       "1995-01-17    0.011173\n",
       "1995-01-18    0.013793\n",
       "1995-01-19    0.005465\n",
       "1995-01-20   -0.073479\n",
       "1995-01-23   -0.008837\n",
       "1995-01-24   -0.014903\n",
       "1995-01-25   -0.015510\n",
       "1995-01-26   -0.036890\n",
       "1995-01-27    0.009449\n",
       "1995-01-30    0.006250\n",
       "1995-01-31    0.006211\n",
       "1995-02-01   -0.006211\n",
       "1995-02-02    0.036702\n",
       "1995-02-03   -0.027399\n",
       "1995-02-06    0.000000\n",
       "1995-02-07    0.007686\n",
       "1995-02-08    0.036094\n",
       "1995-02-09    0.030548\n",
       "1995-02-10    0.002861\n",
       "1995-02-13    0.002750\n",
       "                ...   \n",
       "2019-11-04    0.006546\n",
       "2019-11-05   -0.001438\n",
       "2019-11-06    0.000428\n",
       "2019-11-07    0.011475\n",
       "2019-11-08    0.002733\n",
       "2019-11-11    0.007888\n",
       "2019-11-12   -0.000916\n",
       "2019-11-13    0.009536\n",
       "2019-11-14   -0.006943\n",
       "2019-11-15    0.011809\n",
       "2019-11-18    0.005029\n",
       "2019-11-19   -0.003037\n",
       "2019-11-20   -0.011710\n",
       "2019-11-21   -0.004494\n",
       "2019-11-22   -0.000878\n",
       "2019-11-25    0.017382\n",
       "2019-11-26   -0.007839\n",
       "2019-11-27    0.013343\n",
       "2019-11-29   -0.002205\n",
       "2019-12-02   -0.011630\n",
       "2019-12-03   -0.017991\n",
       "2019-12-04    0.008788\n",
       "2019-12-05    0.014564\n",
       "2019-12-06    0.019132\n",
       "2019-12-09   -0.014099\n",
       "2019-12-10    0.005827\n",
       "2019-12-11    0.008493\n",
       "2019-12-12    0.002545\n",
       "2019-12-13    0.013502\n",
       "2019-12-16    0.016973\n",
       "Name: Log_Return, Length: 6284, dtype: float64"
      ]
     },
     "execution_count": 13,
     "metadata": {},
     "output_type": "execute_result"
    }
   ],
   "source": [
    "#Printing \"Log Return\" column from Apple DF\n",
    "Apple['Log_Return']"
   ]
  },
  {
   "cell_type": "code",
   "execution_count": 14,
   "metadata": {},
   "outputs": [
    {
     "data": {
      "text/plain": [
       "<matplotlib.axes._subplots.AxesSubplot at 0x11acd08d0>"
      ]
     },
     "execution_count": 14,
     "metadata": {},
     "output_type": "execute_result"
    },
    {
     "data": {
      "image/png": "[encoded data removed]",
      "text/plain": [
       "<Figure size 576x360 with 1 Axes>"
      ]
     },
     "metadata": {
      "needs_background": "light"
     },
     "output_type": "display_data"
    }
   ],
   "source": [
    "#Creates visualization of Log Return\n",
    "#Looks fairly similar to graph of Simple Return\n",
    "\n",
    "Apple['Log_Return'].plot(figsize = (8,5))"
   ]
  },
  {
   "cell_type": "code",
   "execution_count": 15,
   "metadata": {},
   "outputs": [
    {
     "data": {
      "text/plain": [
       "0.21763492952097224"
      ]
     },
     "execution_count": 15,
     "metadata": {},
     "output_type": "execute_result"
    }
   ],
   "source": [
    "#Finds the annual average logarithmic rate of return of Apple stock\n",
    "average_log_return = Apple['Log_Return'].mean() * 250\n",
    "average_log_return"
   ]
  },
  {
   "cell_type": "code",
   "execution_count": 16,
   "metadata": {},
   "outputs": [
    {
     "name": "stdout",
     "output_type": "stream",
     "text": [
      "21.763%\n"
     ]
    }
   ],
   "source": [
    "#Prints it in a suitable format\n",
    "print(str(round(average_log_return * 100, 3)) + '%')"
   ]
  },
  {
   "cell_type": "code",
   "execution_count": 17,
   "metadata": {},
   "outputs": [],
   "source": [
    "##We have successfully calculated the annual Logarithmic Rate of Return on Apple stock from 1995 to today\n",
    " #Noticable difference between Simple Rate of Return (31.623%) and Logarithmic Rate of Return (21.763%)\n",
    " #Since we are comparing a single security over a given period of time, a Logarithmic RoR is preferable to Simple RoR"
   ]
  },
  {
   "cell_type": "code",
   "execution_count": null,
   "metadata": {},
   "outputs": [],
   "source": []
  }
 ],
 "metadata": {
  "kernelspec": {
   "display_name": "Python 3",
   "language": "python",
   "name": "python3"
  },
  "language_info": {
   "codemirror_mode": {
    "name": "ipython",
    "version": 3
   },
   "file_extension": ".py",
   "mimetype": "text/x-python",
   "name": "python",
   "nbconvert_exporter": "python",
   "pygments_lexer": "ipython3",
   "version": "3.7.3"
  }
 },
 "nbformat": 4,
 "nbformat_minor": 2
}
