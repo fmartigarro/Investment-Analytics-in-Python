{
 "cells": [
  {
   "cell_type": "code",
   "execution_count": 1,
   "metadata": {},
   "outputs": [],
   "source": [
    "import numpy as np\n",
    "import pandas as pd\n",
    "from pandas_datareader import data as web\n",
    "import matplotlib.pyplot as plt"
   ]
  },
  {
   "cell_type": "code",
   "execution_count": 2,
   "metadata": {},
   "outputs": [],
   "source": [
    "#initializing array \"tickers\" containing the companies P&G, JP Morgan, Ford, GE\n",
    "#we are going to calculate the return of a porfolio containing securities from these companies\n",
    "tickers = ['PG', 'JPM', 'F', 'GE']\n",
    "mydata = pd.DataFrame()\n",
    "for t in tickers:\n",
    "    mydata[t] = web.DataReader(t, 'yahoo', start = '1/1/1995')['Adj Close']"
   ]
  },
  {
   "cell_type": "code",
   "execution_count": 3,
   "metadata": {},
   "outputs": [
    {
     "name": "stdout",
     "output_type": "stream",
     "text": [
      "<class 'pandas.core.frame.DataFrame'>\n",
      "DatetimeIndex: 6289 entries, 1995-01-03 to 2019-12-23\n",
      "Data columns (total 4 columns):\n",
      "PG     6289 non-null float64\n",
      "JPM    6289 non-null float64\n",
      "F      6289 non-null float64\n",
      "GE     6289 non-null float64\n",
      "dtypes: float64(4)\n",
      "memory usage: 245.7 KB\n"
     ]
    }
   ],
   "source": [
    "#getting information regarding the data... making sure there is no null-values\n",
    "mydata.info()"
   ]
  },
  {
   "cell_type": "code",
   "execution_count": 4,
   "metadata": {},
   "outputs": [
    {
     "data": {
      "text/html": [
       "<div>\n",
       "<style scoped>\n",
       "    .dataframe tbody tr th:only-of-type {\n",
       "        vertical-align: middle;\n",
       "    }\n",
       "\n",
       "    .dataframe tbody tr th {\n",
       "        vertical-align: top;\n",
       "    }\n",
       "\n",
       "    .dataframe thead th {\n",
       "        text-align: right;\n",
       "    }\n",
       "</style>\n",
       "<table border=\"1\" class=\"dataframe\">\n",
       "  <thead>\n",
       "    <tr style=\"text-align: right;\">\n",
       "      <th></th>\n",
       "      <th>PG</th>\n",
       "      <th>JPM</th>\n",
       "      <th>F</th>\n",
       "      <th>GE</th>\n",
       "    </tr>\n",
       "    <tr>\n",
       "      <th>Date</th>\n",
       "      <th></th>\n",
       "      <th></th>\n",
       "      <th></th>\n",
       "      <th></th>\n",
       "    </tr>\n",
       "  </thead>\n",
       "  <tbody>\n",
       "    <tr>\n",
       "      <th>1995-01-03</th>\n",
       "      <td>6.400181</td>\n",
       "      <td>4.661627</td>\n",
       "      <td>4.454672</td>\n",
       "      <td>2.731941</td>\n",
       "    </tr>\n",
       "    <tr>\n",
       "      <th>1995-01-04</th>\n",
       "      <td>6.348878</td>\n",
       "      <td>4.742000</td>\n",
       "      <td>4.574527</td>\n",
       "      <td>2.731941</td>\n",
       "    </tr>\n",
       "    <tr>\n",
       "      <th>1995-01-05</th>\n",
       "      <td>6.259093</td>\n",
       "      <td>4.790221</td>\n",
       "      <td>4.534577</td>\n",
       "      <td>2.738635</td>\n",
       "    </tr>\n",
       "    <tr>\n",
       "      <th>1995-01-06</th>\n",
       "      <td>6.271922</td>\n",
       "      <td>4.806297</td>\n",
       "      <td>4.534577</td>\n",
       "      <td>2.725244</td>\n",
       "    </tr>\n",
       "    <tr>\n",
       "      <th>1995-01-09</th>\n",
       "      <td>6.246270</td>\n",
       "      <td>4.838447</td>\n",
       "      <td>4.614479</td>\n",
       "      <td>2.698461</td>\n",
       "    </tr>\n",
       "  </tbody>\n",
       "</table>\n",
       "</div>"
      ],
      "text/plain": [
       "                  PG       JPM         F        GE\n",
       "Date                                              \n",
       "1995-01-03  6.400181  4.661627  4.454672  2.731941\n",
       "1995-01-04  6.348878  4.742000  4.574527  2.731941\n",
       "1995-01-05  6.259093  4.790221  4.534577  2.738635\n",
       "1995-01-06  6.271922  4.806297  4.534577  2.725244\n",
       "1995-01-09  6.246270  4.838447  4.614479  2.698461"
      ]
     },
     "execution_count": 4,
     "metadata": {},
     "output_type": "execute_result"
    }
   ],
   "source": [
    "#printing the first 5 elements of the dataset\n",
    "mydata.head()"
   ]
  },
  {
   "cell_type": "code",
   "execution_count": 5,
   "metadata": {},
   "outputs": [
    {
     "data": {
      "text/html": [
       "<div>\n",
       "<style scoped>\n",
       "    .dataframe tbody tr th:only-of-type {\n",
       "        vertical-align: middle;\n",
       "    }\n",
       "\n",
       "    .dataframe tbody tr th {\n",
       "        vertical-align: top;\n",
       "    }\n",
       "\n",
       "    .dataframe thead th {\n",
       "        text-align: right;\n",
       "    }\n",
       "</style>\n",
       "<table border=\"1\" class=\"dataframe\">\n",
       "  <thead>\n",
       "    <tr style=\"text-align: right;\">\n",
       "      <th></th>\n",
       "      <th>PG</th>\n",
       "      <th>JPM</th>\n",
       "      <th>F</th>\n",
       "      <th>GE</th>\n",
       "    </tr>\n",
       "    <tr>\n",
       "      <th>Date</th>\n",
       "      <th></th>\n",
       "      <th></th>\n",
       "      <th></th>\n",
       "      <th></th>\n",
       "    </tr>\n",
       "  </thead>\n",
       "  <tbody>\n",
       "    <tr>\n",
       "      <th>2019-12-17</th>\n",
       "      <td>125.309998</td>\n",
       "      <td>138.179993</td>\n",
       "      <td>9.39</td>\n",
       "      <td>11.089946</td>\n",
       "    </tr>\n",
       "    <tr>\n",
       "      <th>2019-12-18</th>\n",
       "      <td>124.010002</td>\n",
       "      <td>138.039993</td>\n",
       "      <td>9.54</td>\n",
       "      <td>10.950072</td>\n",
       "    </tr>\n",
       "    <tr>\n",
       "      <th>2019-12-19</th>\n",
       "      <td>124.919998</td>\n",
       "      <td>137.350006</td>\n",
       "      <td>9.41</td>\n",
       "      <td>11.030000</td>\n",
       "    </tr>\n",
       "    <tr>\n",
       "      <th>2019-12-20</th>\n",
       "      <td>125.360001</td>\n",
       "      <td>137.240005</td>\n",
       "      <td>9.48</td>\n",
       "      <td>11.030000</td>\n",
       "    </tr>\n",
       "    <tr>\n",
       "      <th>2019-12-23</th>\n",
       "      <td>124.900002</td>\n",
       "      <td>137.199997</td>\n",
       "      <td>9.44</td>\n",
       "      <td>11.160000</td>\n",
       "    </tr>\n",
       "  </tbody>\n",
       "</table>\n",
       "</div>"
      ],
      "text/plain": [
       "                    PG         JPM     F         GE\n",
       "Date                                               \n",
       "2019-12-17  125.309998  138.179993  9.39  11.089946\n",
       "2019-12-18  124.010002  138.039993  9.54  10.950072\n",
       "2019-12-19  124.919998  137.350006  9.41  11.030000\n",
       "2019-12-20  125.360001  137.240005  9.48  11.030000\n",
       "2019-12-23  124.900002  137.199997  9.44  11.160000"
      ]
     },
     "execution_count": 5,
     "metadata": {},
     "output_type": "execute_result"
    }
   ],
   "source": [
    "#printing the last 5 elements of the dataset\n",
    "mydata.tail()"
   ]
  },
  {
   "cell_type": "markdown",
   "metadata": {},
   "source": [
    "## Normalization to 100:\n",
    "\n",
    "\n",
    "\\begin{align}\n",
    "\\frac{P_1}{P_0} *{100}\n",
    "\\end{align}\n",
    "\n",
    "\n",
    "*\n",
    "\n",
    "            \n",
    "                                             "
   ]
  },
  {
   "cell_type": "code",
   "execution_count": 6,
   "metadata": {},
   "outputs": [
    {
     "data": {
      "text/plain": [
       "PG     6.400181\n",
       "JPM    4.661627\n",
       "F      4.454672\n",
       "GE     2.731941\n",
       "Name: 1995-01-03 00:00:00, dtype: float64"
      ]
     },
     "execution_count": 6,
     "metadata": {},
     "output_type": "execute_result"
    }
   ],
   "source": [
    "#printing first index of data array (which will get normalized)\n",
    "mydata.iloc[0]"
   ]
  },
  {
   "cell_type": "code",
   "execution_count": 7,
   "metadata": {},
   "outputs": [
    {
     "data": {
      "image/png": "[encoded data removed]",
      "text/plain": [
       "<Figure size 1080x432 with 1 Axes>"
      ]
     },
     "metadata": {
      "needs_background": "light"
     },
     "output_type": "display_data"
    }
   ],
   "source": [
    "#normalizing the data to 100 so that when the graph begins, every security starts at 100; easier to interpret\n",
    "#failure to do so causes the adjusted closing prices of all companies to be plotted directly; not a good landmark\n",
    "(mydata / mydata.iloc[0] * 100).plot(figsize = (15, 6))\n",
    "plt.show()"
   ]
  },
  {
   "cell_type": "markdown",
   "metadata": {},
   "source": [
    "## Calculating the Return of a Porfolio of Securities\n"
   ]
  },
  {
   "cell_type": "code",
   "execution_count": 8,
   "metadata": {},
   "outputs": [
    {
     "data": {
      "text/html": [
       "<div>\n",
       "<style scoped>\n",
       "    .dataframe tbody tr th:only-of-type {\n",
       "        vertical-align: middle;\n",
       "    }\n",
       "\n",
       "    .dataframe tbody tr th {\n",
       "        vertical-align: top;\n",
       "    }\n",
       "\n",
       "    .dataframe thead th {\n",
       "        text-align: right;\n",
       "    }\n",
       "</style>\n",
       "<table border=\"1\" class=\"dataframe\">\n",
       "  <thead>\n",
       "    <tr style=\"text-align: right;\">\n",
       "      <th></th>\n",
       "      <th>PG</th>\n",
       "      <th>JPM</th>\n",
       "      <th>F</th>\n",
       "      <th>GE</th>\n",
       "    </tr>\n",
       "    <tr>\n",
       "      <th>Date</th>\n",
       "      <th></th>\n",
       "      <th></th>\n",
       "      <th></th>\n",
       "      <th></th>\n",
       "    </tr>\n",
       "  </thead>\n",
       "  <tbody>\n",
       "    <tr>\n",
       "      <th>1995-01-03</th>\n",
       "      <td>NaN</td>\n",
       "      <td>NaN</td>\n",
       "      <td>NaN</td>\n",
       "      <td>NaN</td>\n",
       "    </tr>\n",
       "    <tr>\n",
       "      <th>1995-01-04</th>\n",
       "      <td>-0.008016</td>\n",
       "      <td>0.017241</td>\n",
       "      <td>0.026905</td>\n",
       "      <td>0.000000</td>\n",
       "    </tr>\n",
       "    <tr>\n",
       "      <th>1995-01-05</th>\n",
       "      <td>-0.014142</td>\n",
       "      <td>0.010169</td>\n",
       "      <td>-0.008733</td>\n",
       "      <td>0.002450</td>\n",
       "    </tr>\n",
       "    <tr>\n",
       "      <th>1995-01-06</th>\n",
       "      <td>0.002050</td>\n",
       "      <td>0.003356</td>\n",
       "      <td>0.000000</td>\n",
       "      <td>-0.004890</td>\n",
       "    </tr>\n",
       "    <tr>\n",
       "      <th>1995-01-09</th>\n",
       "      <td>-0.004090</td>\n",
       "      <td>0.006689</td>\n",
       "      <td>0.017621</td>\n",
       "      <td>-0.009828</td>\n",
       "    </tr>\n",
       "  </tbody>\n",
       "</table>\n",
       "</div>"
      ],
      "text/plain": [
       "                  PG       JPM         F        GE\n",
       "Date                                              \n",
       "1995-01-03       NaN       NaN       NaN       NaN\n",
       "1995-01-04 -0.008016  0.017241  0.026905  0.000000\n",
       "1995-01-05 -0.014142  0.010169 -0.008733  0.002450\n",
       "1995-01-06  0.002050  0.003356  0.000000 -0.004890\n",
       "1995-01-09 -0.004090  0.006689  0.017621 -0.009828"
      ]
     },
     "execution_count": 8,
     "metadata": {},
     "output_type": "execute_result"
    }
   ],
   "source": [
    "#simple return method (p1/p0 - 1) is preferred when analyzing a porfolio of securities\n",
    "returns = (mydata / mydata.shift(1)) - 1\n",
    "returns.head()"
   ]
  },
  {
   "cell_type": "code",
   "execution_count": 9,
   "metadata": {},
   "outputs": [
    {
     "data": {
      "text/plain": [
       "PG     0.142761\n",
       "JPM    0.204562\n",
       "F      0.106378\n",
       "GE     0.101624\n",
       "dtype: float64"
      ]
     },
     "execution_count": 9,
     "metadata": {},
     "output_type": "execute_result"
    }
   ],
   "source": [
    "#finding the annual returns of each stock (250 is # of trading days per year)\n",
    "annual_returns = returns.mean() * 250\n",
    "annual_returns"
   ]
  },
  {
   "cell_type": "code",
   "execution_count": 10,
   "metadata": {},
   "outputs": [],
   "source": [
    "#which proportion of security weights within a porfolio has had better historical performance?\n",
    "weights = np.array([0.25, 0.25, 0.25, 0.25])\n",
    "weights_2 = np.array([0.30, 0.15, 0.15, 0.40])\n",
    "weights_3 = np.array([0.35, 0.20, 0.15, 0.30])"
   ]
  },
  {
   "cell_type": "code",
   "execution_count": 11,
   "metadata": {},
   "outputs": [
    {
     "data": {
      "text/plain": [
       "0.13883109727668727"
      ]
     },
     "execution_count": 11,
     "metadata": {},
     "output_type": "execute_result"
    }
   ],
   "source": [
    "#here is the annual porfolio return of the first weighted package... RoR of porfolio = RoR of stocks * weight of stock\n",
    "#we use the np.dot() function to find the dot product between vectors - annual_returns and weights\n",
    "np.dot(annual_returns, weights)"
   ]
  },
  {
   "cell_type": "code",
   "execution_count": 12,
   "metadata": {},
   "outputs": [
    {
     "name": "stdout",
     "output_type": "stream",
     "text": [
      "13.8831 %\n",
      "13.0119 %\n",
      "13.7323 %\n"
     ]
    }
   ],
   "source": [
    "#lets format the output and print all three options so we can compare the returns\n",
    "portfolio1 = str(round(np.dot(annual_returns, weights), 6) * 100) + ' %'\n",
    "portfolio2 = str(round(np.dot(annual_returns, weights_2), 6) * 100) + ' %'\n",
    "portfolio3 = str(round(np.dot(annual_returns, weights_3), 6) * 100) + ' %'\n",
    "\n",
    "print(portfolio1)\n",
    "print(portfolio2)\n",
    "print(portfolio3)"
   ]
  },
  {
   "cell_type": "code",
   "execution_count": 13,
   "metadata": {},
   "outputs": [],
   "source": [
    "#we have succesfully calculated the average annual returns of our porfolio of securities!\n",
    "#we can confidently say that porfolio1 has had the best average annual return with a rate of 13.8831 % "
   ]
  }
 ],
 "metadata": {
  "kernelspec": {
   "display_name": "Python 3",
   "language": "python",
   "name": "python3"
  },
  "language_info": {
   "codemirror_mode": {
    "name": "ipython",
    "version": 3
   },
   "file_extension": ".py",
   "mimetype": "text/x-python",
   "name": "python",
   "nbconvert_exporter": "python",
   "pygments_lexer": "ipython3",
   "version": "3.7.3"
  }
 },
 "nbformat": 4,
 "nbformat_minor": 2
}
